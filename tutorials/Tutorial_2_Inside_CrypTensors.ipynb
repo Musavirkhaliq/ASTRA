{
 "cells": [
  {
   "attachments": {},
   "cell_type": "markdown",
   "metadata": {},
   "source": [
    "# Tutorial 2: Inside CrypTensors\n",
    "\n",
    "Note: This tutorial is optional, and can be skipped without any loss of continuity to the following tutorials.\n",
    "\n",
    "\n",
    "In this tutorial, we will take a brief look at the internals of ```CrypTensors```. \n",
    "\n",
    "Using the `mpc` backend, a `CrypTensor` is a tensor encrypted using secure MPC protocols, called an `MPCTensor`. In order to support the mathematical operations required by the `MPCTensor`, CrypTen implements two kinds of secret-sharing protocols: arithmetic secret-sharing and binary secret-sharing. Arithmetic secret sharing forms the basis for most of the mathematical operations implemented by `MPCTensor`. Similarly, binary secret-sharing allows for the evaluation of logical expressions.\n",
    "\n",
    "In this tutorial, we'll first introduce the concept of a `CrypTensor` <i>ptype</i> (i.e. <i>private-type</i>), and show how to use it to obtain `MPCTensors` that use arithmetic and binary secret shares. We will also describe how each of these <i>ptypes</i> is used, and how they can be combined to implement desired functionality."
   ]
  },
  {
   "cell_type": "code",
   "execution_count": null,
   "metadata": {},
   "outputs": [],
   "source": [
    "import sys\n",
    "sys.path.insert(0, '/home/musa/Documents/distributed/crypten')\n",
    "import os\n",
    "os.environ[\"CUDA_VISIBLE_DEVICES\"] = \"\"\n",
    "#import the libraries\n",
    "import crypten\n",
    "import torch\n",
    "\n",
    "#initialize crypten\n",
    "crypten.init()\n",
    "#Disables OpenMP threads -- needed by @mpc.run_multiprocess which uses fork\n",
    "torch.set_num_threads(1)"
   ]
  },
  {
   "attachments": {},
   "cell_type": "markdown",
   "metadata": {
    "collapsed": true
   },
   "source": [
    "## <i>ptype</i> in CrypTen\n",
    "CrypTen defines the `ptype` (for <i>private-type</i>) attribute of an `MPCTensor` to denote the kind of secret-sharing protocol used in the `CrypTensor`. The `ptype` is, in many ways, analogous to the `dtype` of PyTorch. The `ptype` may have two values: \n",
    "\n",
    "- `crypten.mpc.arithmetic` for `ArithmeticSharedTensors`</li>\n",
    "- `crypten.mpc.binary` for  `BinarySharedTensors`</li>\n",
    "\n",
    "We can use the `ptype` attribute to create a `CrypTensor` with the appropriate secret-sharing protocol. For example: "
   ]
  },
  {
   "cell_type": "code",
   "execution_count": null,
   "metadata": {},
   "outputs": [],
   "source": [
    "#Constructing CrypTensors with ptype attribute\n",
    "\n",
    "#arithmetic secret-shared tensors\n",
    "x_enc = crypten.cryptensor([1.0, 2.0, 3.0], ptype=crypten.mpc.astra)\n",
    "print(\"x_enc internal type:\", x_enc.ptype)\n",
    "\n",
    "#binary secret-shared tensors\n",
    "# y = torch.tensor([1, 2, 1], dtype=torch.int32)\n",
    "# y_enc = crypten.cryptensor(y, ptype=crypten.mpc.binary)\n",
    "# print(\"y_enc internal type:\", y_enc.ptype)"
   ]
  },
  {
   "attachments": {},
   "cell_type": "markdown",
   "metadata": {},
   "source": [
    "### Arithmetic secret-sharing\n",
    "Let's look more closely at the `crypten.mpc.arithmetic` <i>ptype</i>. Most of the mathematical operations implemented by `CrypTensors` are implemented using arithmetic secret sharing. As such, `crypten.mpc.arithmetic` is the default <i>ptype</i> for newly generated `CrypTensors`. \n",
    "\n",
    "Let's begin by creating a new `CrypTensor` using `ptype=crypten.mpc.arithmetic` to enforce that the encryption is done via arithmetic secret sharing. We can print values of each share to confirm that values are being encrypted properly. \n",
    "\n",
    "To do so, we will need to create multiple parties to hold each share. We do this here using the `@mpc.run_multiprocess` function decorator, which we developed to execute crypten code from a single script (as we have in a Jupyter notebook). CrypTen follows the standard MPI programming model: it runs a separate process for each party, but each process runs an identical (complete) program. Each process has a `rank` variable to identify itself.\n",
    "\n",
    "Note that the sum of the two `_tensor` attributes below is equal to a scaled representation of the input. (Because MPC requires values to be integers, we scale input floats to a fixed-point encoding before encryption.)"
   ]
  },
  {
   "cell_type": "code",
   "execution_count": 1,
   "metadata": {},
   "outputs": [
    {
     "name": "stdout",
     "output_type": "stream",
     "text": [
      "torch.Size([1, 1])\n",
      "tensor([[[                   0,                    0],\n",
      "         [                   0,                    0]],\n",
      "\n",
      "        [[-8687870578669028678,  5155412069898161760],\n",
      "         [ 5729504432055302789, -1903770558195159285]],\n",
      "\n",
      "        [[-7333432689788297108,  2889234042158086678],\n",
      "         [-3621231125079014971, -1445614451432946684]]])\n",
      "\n",
      "Rank 0:\n",
      " tensor([[ 58.0000,  64.0000],\n",
      "        [139.0000, 154.0000]])\n",
      "\n",
      "\n",
      "Rank 1:\n",
      " tensor([[ 58.0000,  64.0000],\n",
      "        [139.0000, 154.0000]])\n",
      "\n",
      "\n",
      "Rank 2:\n",
      " tensor([[ 58.0000,  64.0000],\n",
      "        [139.0000, 154.0000]])\n",
      "\n"
     ]
    }
   ],
   "source": [
    "\n",
    "import sys\n",
    "sys.path.insert(0, '/home/musa/Documents/distributed/crypten')\n",
    "import os\n",
    "os.environ[\"CUDA_VISIBLE_DEVICES\"] = \"\"\n",
    "#import the libraries\n",
    "import crypten\n",
    "import torch\n",
    "import crypten.mpc as mpc\n",
    "import crypten.communicator as comm \n",
    "#initialize crypten\n",
    "crypten.init()\n",
    "#Disables OpenMP threads -- needed by @mpc.run_multiprocess which uses fork\n",
    "torch.set_num_threads(1)\n",
    "@mpc.run_multiprocess(world_size=3)\n",
    "def examine_arithmetic_shares():\n",
    "    x_enc = crypten.cryptensor([[1, 2, 3], [4, 5, 6]], ptype=crypten.mpc.astra)\n",
    "    # print(x_enc.shape)\n",
    "    y_enc = crypten.cryptensor([[7, 8], [9, 10], [11, 12]], ptype=crypten.mpc.astra)\n",
    "    # print(y_enc.shape)\n",
    "    # w_enc = crypten.cryptensor([4,120,3], ptype=crypten.mpc.astra)\n",
    "    z_enc = x_enc @ y_enc\n",
    "    # rank = comm.get().get_rank()\n",
    "    # crypten.print(f\"\\nRank {rank}:\\n {x_enc}\\n\", in_order=True)\n",
    "    # rank = comm.get().get_rank()\n",
    "    # crypten.print(f\"\\nRank {rank}:\\n {y_enc}\\n\", in_order=True)\n",
    "    # rank = comm.get().get_rank()\n",
    "    # crypten.print(f\"\\nRank {rank}:\\n {z_enc}\\n\", in_order=True)\n",
    "    rank = comm.get().get_rank()\n",
    "    crypten.print(f\"\\nRank {rank}:\\n {z_enc.get_plain_text()}\\n\", in_order=True)\n",
    "        \n",
    "x = examine_arithmetic_shares()"
   ]
  },
  {
   "attachments": {},
   "cell_type": "markdown",
   "metadata": {},
   "source": [
    "### Binary secret-sharing\n",
    "The second type of secret-sharing implemented in CrypTen is binary or XOR secret-sharing. This type of secret-sharing allows greater efficiency in evaluating logical expressions. \n",
    "\n",
    "Let's look more closely at the `crypten.mpc.binary` <i>ptype</i>. Most of the logical operations implemented by `CrypTensors` are implemented using arithmetic secret sharing. We typically use this type of secret-sharing when we want to evaluate binary operators (i.e. `^ & | >> <<`, etc.) or logical operations (like comparitors).\n",
    "\n",
    "Let's begin by creating a new `CrypTensor` using `ptype=crypten.mpc.binary` to enforce that the encryption is done via binary secret sharing. We can print values of each share to confirm that values are being encrypted properly, as we did for arithmetic secret-shares.\n",
    "\n",
    "(Note that an xor of the two `_tensor` attributes below is equal to an unscaled version of input.)"
   ]
  },
  {
   "cell_type": "code",
   "execution_count": null,
   "metadata": {},
   "outputs": [],
   "source": [
    "@mpc.run_multiprocess(world_size=3)\n",
    "def examine_binary_shares():\n",
    "    x_enc = crypten.cryptensor([2, 3], ptype=crypten.mpc.binary)\n",
    "    \n",
    "    rank = comm.get().get_rank()\n",
    "    crypten.print(f\"\\nRank {rank}:\\n {x_enc}\\n\", in_order=True)\n",
    "        \n",
    "x = examine_binary_shares()"
   ]
  },
  {
   "attachments": {},
   "cell_type": "markdown",
   "metadata": {},
   "source": [
    "### Using Both Secret-sharing Protocols\n",
    "Quite often a mathematical function may need to use both additive and XOR secret sharing for efficient evaluation.  Functions that require conversions between sharing types include comparators (`>, >=, <, <=, ==, !=`) as well as functions derived from them (`abs, sign, relu`, etc.). For a full list of supported functions, please see the CrypTen documentation.\n",
    "\n",
    "CrypTen provides functionality that allows for the conversion of between <i>ptypes</i>. Conversion between <i>ptypes</i> can be done using the `.to()` function with a `crypten.ptype` input, or by calling the `.arithmetic()` and `.binary()` conversion functions."
   ]
  },
  {
   "cell_type": "code",
   "execution_count": null,
   "metadata": {},
   "outputs": [],
   "source": [
    "from crypten.mpc import MPCTensor\n",
    "\n",
    "@mpc.run_multiprocess(world_size=2)\n",
    "def examine_conversion():\n",
    "    x = torch.tensor([1, 2, 3])\n",
    "    rank = comm.get().get_rank()\n",
    "\n",
    "    # create an MPCTensor with arithmetic secret sharing\n",
    "    x_enc_arithmetic = MPCTensor(x, ptype=crypten.mpc.arithmetic)\n",
    "    \n",
    "    # To binary\n",
    "    x_enc_binary = x_enc_arithmetic.to(crypten.mpc.binary)\n",
    "    x_from_binary = x_enc_binary.get_plain_text()\n",
    "    \n",
    "    # print only once\n",
    "    crypten.print(\"to(crypten.binary):\")\n",
    "    crypten.print(f\"  ptype: {x_enc_binary.ptype}\\n  plaintext: {x_from_binary}\\n\")\n",
    "\n",
    "        \n",
    "    # To arithmetic\n",
    "    x_enc_arithmetic = x_enc_arithmetic.to(crypten.mpc.arithmetic)\n",
    "    x_from_arithmetic = x_enc_arithmetic.get_plain_text()\n",
    "    \n",
    "    # print only once\n",
    "    crypten.print(\"to(crypten.arithmetic):\")\n",
    "    crypten.print(f\"  ptype: {x_enc_arithmetic.ptype}\\n  plaintext: {x_from_arithmetic}\\n\")\n",
    "\n",
    "        \n",
    "z = examine_conversion()"
   ]
  },
  {
   "attachments": {},
   "cell_type": "markdown",
   "metadata": {},
   "source": [
    "## Data Sources\n",
    "CrypTen follows the standard MPI programming model: it runs a separate process for each party, but each process runs an identical (complete) program. Each process has a `rank` variable to identify itself.\n",
    "\n",
    "If the process with rank `i` is the source of data `x`, then `x` gets encrypted with `i` as its source value (denoted as `src`). However, MPI protocols require that both processes to provide a tensor with the same size as their input. CrypTen ignores all data provided from non-source processes when encrypting.\n",
    "\n",
    "In the next example, we'll show how to use the `rank` and `src` values to encrypt tensors. Here, we will have each of 3 parties generate a value `x` which is equal to its own `rank` value. Within the loop, 3 encrypted tensors are created, each with a different source. When these tensors are decrypted, we can verify that the tensors are generated using the tensor provided by the source process.\n",
    "\n",
    "(Note that `crypten.cryptensor` uses rank 0 as the default source if none is provided.)"
   ]
  },
  {
   "cell_type": "code",
   "execution_count": null,
   "metadata": {},
   "outputs": [],
   "source": [
    "@mpc.run_multiprocess(world_size=3)\n",
    "def examine_sources():\n",
    "    # Create a different tensor on each rank\n",
    "    rank = comm.get().get_rank()\n",
    "    x = torch.tensor(rank)\n",
    "    crypten.print(f\"Rank {rank}: {x}\", in_order=True)\n",
    "    \n",
    "    # \n",
    "    world_size = comm.get().get_world_size()\n",
    "    for i in range(world_size):\n",
    "        x_enc = crypten.cryptensor(x, src=i)\n",
    "        z = x_enc.get_plain_text()\n",
    "        \n",
    "        # Only print from one process to avoid duplicates\n",
    "        crypten.print(f\"Source {i}: {z}\")\n",
    "        \n",
    "x = examine_sources()"
   ]
  }
 ],
 "metadata": {
  "kernelspec": {
   "display_name": "Python 3",
   "language": "python",
   "name": "python3"
  },
  "language_info": {
   "codemirror_mode": {
    "name": "ipython",
    "version": 3
   },
   "file_extension": ".py",
   "mimetype": "text/x-python",
   "name": "python",
   "nbconvert_exporter": "python",
   "pygments_lexer": "ipython3",
   "version": "3.9.13"
  }
 },
 "nbformat": 4,
 "nbformat_minor": 2
}
