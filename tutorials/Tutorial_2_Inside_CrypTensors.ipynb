{
 "cells": [
  {
   "attachments": {},
   "cell_type": "markdown",
   "metadata": {},
   "source": [
    "# Tutorial 2: Inside CrypTensors\n",
    "\n",
    "Note: This tutorial is optional, and can be skipped without any loss of continuity to the following tutorials.\n",
    "\n",
    "\n",
    "In this tutorial, we will take a brief look at the internals of ```CrypTensors```. \n",
    "\n",
    "Using the `mpc` backend, a `CrypTensor` is a tensor encrypted using secure MPC protocols, called an `MPCTensor`. In order to support the mathematical operations required by the `MPCTensor`, CrypTen implements two kinds of secret-sharing protocols: arithmetic secret-sharing and binary secret-sharing. Arithmetic secret sharing forms the basis for most of the mathematical operations implemented by `MPCTensor`. Similarly, binary secret-sharing allows for the evaluation of logical expressions.\n",
    "\n",
    "In this tutorial, we'll first introduce the concept of a `CrypTensor` <i>ptype</i> (i.e. <i>private-type</i>), and show how to use it to obtain `MPCTensors` that use arithmetic and binary secret shares. We will also describe how each of these <i>ptypes</i> is used, and how they can be combined to implement desired functionality."
   ]
  },
  {
   "cell_type": "code",
   "execution_count": 1,
   "metadata": {},
   "outputs": [
    {
     "name": "stdout",
     "output_type": "stream",
     "text": [
      "torch.Size([1, 1])\n"
     ]
    }
   ],
   "source": [
    "import sys\n",
    "sys.path.insert(0, '/home/musa/Documents/distributed/crypten')\n",
    "import os\n",
    "os.environ[\"CUDA_VISIBLE_DEVICES\"] = \"\"\n",
    "#import the libraries\n",
    "import crypten\n",
    "import torch\n",
    "\n",
    "#initialize crypten\n",
    "crypten.init()\n",
    "#Disables OpenMP threads -- needed by @mpc.run_multiprocess which uses fork\n",
    "torch.set_num_threads(1)"
   ]
  },
  {
   "attachments": {},
   "cell_type": "markdown",
   "metadata": {
    "collapsed": true
   },
   "source": [
    "## <i>ptype</i> in CrypTen\n",
    "CrypTen defines the `ptype` (for <i>private-type</i>) attribute of an `MPCTensor` to denote the kind of secret-sharing protocol used in the `CrypTensor`. The `ptype` is, in many ways, analogous to the `dtype` of PyTorch. The `ptype` may have two values: \n",
    "\n",
    "- `crypten.mpc.arithmetic` for `ArithmeticSharedTensors`</li>\n",
    "- `crypten.mpc.binary` for  `BinarySharedTensors`</li>\n",
    "\n",
    "We can use the `ptype` attribute to create a `CrypTensor` with the appropriate secret-sharing protocol. For example: "
   ]
  },
  {
   "cell_type": "code",
   "execution_count": 2,
   "metadata": {},
   "outputs": [
    {
     "name": "stdout",
     "output_type": "stream",
     "text": [
      "tensor([ 65536, 131072, 196608])\n"
     ]
    },
    {
     "ename": "AttributeError",
     "evalue": "'Tensor' object has no attribute 'wait'",
     "output_type": "error",
     "traceback": [
      "\u001b[0;31m---------------------------------------------------------------------------\u001b[0m",
      "\u001b[0;31mAttributeError\u001b[0m                            Traceback (most recent call last)",
      "\u001b[0;32m/tmp/ipykernel_8609/4076115056.py\u001b[0m in \u001b[0;36m<module>\u001b[0;34m\u001b[0m\n\u001b[1;32m      2\u001b[0m \u001b[0;34m\u001b[0m\u001b[0m\n\u001b[1;32m      3\u001b[0m \u001b[0;31m#arithmetic secret-shared tensors\u001b[0m\u001b[0;34m\u001b[0m\u001b[0;34m\u001b[0m\u001b[0m\n\u001b[0;32m----> 4\u001b[0;31m \u001b[0mx_enc\u001b[0m \u001b[0;34m=\u001b[0m \u001b[0mcrypten\u001b[0m\u001b[0;34m.\u001b[0m\u001b[0mcryptensor\u001b[0m\u001b[0;34m(\u001b[0m\u001b[0;34m[\u001b[0m\u001b[0;36m1.0\u001b[0m\u001b[0;34m,\u001b[0m \u001b[0;36m2.0\u001b[0m\u001b[0;34m,\u001b[0m \u001b[0;36m3.0\u001b[0m\u001b[0;34m]\u001b[0m\u001b[0;34m,\u001b[0m \u001b[0mptype\u001b[0m\u001b[0;34m=\u001b[0m\u001b[0mcrypten\u001b[0m\u001b[0;34m.\u001b[0m\u001b[0mmpc\u001b[0m\u001b[0;34m.\u001b[0m\u001b[0mastra\u001b[0m\u001b[0;34m)\u001b[0m\u001b[0;34m\u001b[0m\u001b[0;34m\u001b[0m\u001b[0m\n\u001b[0m\u001b[1;32m      5\u001b[0m \u001b[0mprint\u001b[0m\u001b[0;34m(\u001b[0m\u001b[0;34m\"x_enc internal type:\"\u001b[0m\u001b[0;34m,\u001b[0m \u001b[0mx_enc\u001b[0m\u001b[0;34m.\u001b[0m\u001b[0mptype\u001b[0m\u001b[0;34m)\u001b[0m\u001b[0;34m\u001b[0m\u001b[0;34m\u001b[0m\u001b[0m\n\u001b[1;32m      6\u001b[0m \u001b[0;34m\u001b[0m\u001b[0m\n",
      "\u001b[0;32m~/Documents/distributed/crypten/crypten/__init__.py\u001b[0m in \u001b[0;36mcryptensor\u001b[0;34m(cryptensor_type, *args, **kwargs)\u001b[0m\n\u001b[1;32m    155\u001b[0m \u001b[0;34m\u001b[0m\u001b[0m\n\u001b[1;32m    156\u001b[0m     \u001b[0;31m# create CrypTensor:\u001b[0m\u001b[0;34m\u001b[0m\u001b[0;34m\u001b[0m\u001b[0m\n\u001b[0;32m--> 157\u001b[0;31m     \u001b[0;32mreturn\u001b[0m \u001b[0mCrypTensor\u001b[0m\u001b[0;34m.\u001b[0m\u001b[0m__CRYPTENSOR_TYPES__\u001b[0m\u001b[0;34m[\u001b[0m\u001b[0mcryptensor_type\u001b[0m\u001b[0;34m]\u001b[0m\u001b[0;34m(\u001b[0m\u001b[0;34m*\u001b[0m\u001b[0margs\u001b[0m\u001b[0;34m,\u001b[0m \u001b[0;34m**\u001b[0m\u001b[0mkwargs\u001b[0m\u001b[0;34m)\u001b[0m\u001b[0;34m\u001b[0m\u001b[0;34m\u001b[0m\u001b[0m\n\u001b[0m\u001b[1;32m    158\u001b[0m \u001b[0;34m\u001b[0m\u001b[0m\n\u001b[1;32m    159\u001b[0m \u001b[0;34m\u001b[0m\u001b[0m\n",
      "\u001b[0;32m~/Documents/distributed/crypten/crypten/mpc/mpc.py\u001b[0m in \u001b[0;36m__init__\u001b[0;34m(self, tensor, ptype, device, *args, **kwargs)\u001b[0m\n\u001b[1;32m     58\u001b[0m             \u001b[0mself\u001b[0m\u001b[0;34m.\u001b[0m\u001b[0m_tensor\u001b[0m \u001b[0;34m=\u001b[0m \u001b[0mtorch\u001b[0m\u001b[0;34m.\u001b[0m\u001b[0mtensor\u001b[0m\u001b[0;34m(\u001b[0m\u001b[0;34m[\u001b[0m\u001b[0;34m]\u001b[0m\u001b[0;34m,\u001b[0m \u001b[0mdevice\u001b[0m\u001b[0;34m=\u001b[0m\u001b[0mdevice\u001b[0m\u001b[0;34m)\u001b[0m\u001b[0;34m\u001b[0m\u001b[0;34m\u001b[0m\u001b[0m\n\u001b[1;32m     59\u001b[0m         \u001b[0;32melse\u001b[0m\u001b[0;34m:\u001b[0m\u001b[0;34m\u001b[0m\u001b[0;34m\u001b[0m\u001b[0m\n\u001b[0;32m---> 60\u001b[0;31m             \u001b[0mself\u001b[0m\u001b[0;34m.\u001b[0m\u001b[0m_tensor\u001b[0m \u001b[0;34m=\u001b[0m \u001b[0mtensor_type\u001b[0m\u001b[0;34m(\u001b[0m\u001b[0mtensor\u001b[0m\u001b[0;34m=\u001b[0m\u001b[0mtensor\u001b[0m\u001b[0;34m,\u001b[0m \u001b[0mdevice\u001b[0m\u001b[0;34m=\u001b[0m\u001b[0mdevice\u001b[0m\u001b[0;34m,\u001b[0m \u001b[0;34m*\u001b[0m\u001b[0margs\u001b[0m\u001b[0;34m,\u001b[0m \u001b[0;34m**\u001b[0m\u001b[0mkwargs\u001b[0m\u001b[0;34m)\u001b[0m\u001b[0;34m\u001b[0m\u001b[0;34m\u001b[0m\u001b[0m\n\u001b[0m\u001b[1;32m     61\u001b[0m         \u001b[0mself\u001b[0m\u001b[0;34m.\u001b[0m\u001b[0mptype\u001b[0m \u001b[0;34m=\u001b[0m \u001b[0mptype\u001b[0m\u001b[0;34m\u001b[0m\u001b[0;34m\u001b[0m\u001b[0m\n\u001b[1;32m     62\u001b[0m \u001b[0;34m\u001b[0m\u001b[0m\n",
      "\u001b[0;32m~/Documents/distributed/crypten/crypten/mpc/primitives/astra.py\u001b[0m in \u001b[0;36m__init__\u001b[0;34m(self, tensor, size, broadcast_size, precision, src, device)\u001b[0m\n\u001b[1;32m    113\u001b[0m \u001b[0;34m\u001b[0m\u001b[0m\n\u001b[1;32m    114\u001b[0m                 \u001b[0mreq0\u001b[0m \u001b[0;34m=\u001b[0m \u001b[0mcomm\u001b[0m\u001b[0;34m.\u001b[0m\u001b[0mget\u001b[0m\u001b[0;34m(\u001b[0m\u001b[0;34m)\u001b[0m\u001b[0;34m.\u001b[0m\u001b[0misend\u001b[0m\u001b[0;34m(\u001b[0m\u001b[0mmv\u001b[0m\u001b[0;34m,\u001b[0m \u001b[0mdst\u001b[0m \u001b[0;34m=\u001b[0m \u001b[0;36m1\u001b[0m\u001b[0;34m)\u001b[0m\u001b[0;34m\u001b[0m\u001b[0;34m\u001b[0m\u001b[0m\n\u001b[0;32m--> 115\u001b[0;31m                 \u001b[0mreq0\u001b[0m\u001b[0;34m.\u001b[0m\u001b[0mwait\u001b[0m\u001b[0;34m(\u001b[0m\u001b[0;34m)\u001b[0m\u001b[0;34m\u001b[0m\u001b[0;34m\u001b[0m\u001b[0m\n\u001b[0m\u001b[1;32m    116\u001b[0m                 \u001b[0mreq00\u001b[0m \u001b[0;34m=\u001b[0m \u001b[0mcomm\u001b[0m\u001b[0;34m.\u001b[0m\u001b[0mget\u001b[0m\u001b[0;34m(\u001b[0m\u001b[0;34m)\u001b[0m\u001b[0;34m.\u001b[0m\u001b[0misend\u001b[0m\u001b[0;34m(\u001b[0m\u001b[0mmv\u001b[0m\u001b[0;34m,\u001b[0m \u001b[0mdst\u001b[0m \u001b[0;34m=\u001b[0m \u001b[0;36m2\u001b[0m\u001b[0;34m)\u001b[0m\u001b[0;34m\u001b[0m\u001b[0;34m\u001b[0m\u001b[0m\n\u001b[1;32m    117\u001b[0m                 \u001b[0mreq00\u001b[0m\u001b[0;34m.\u001b[0m\u001b[0mwait\u001b[0m\u001b[0;34m(\u001b[0m\u001b[0;34m)\u001b[0m\u001b[0;34m\u001b[0m\u001b[0;34m\u001b[0m\u001b[0m\n",
      "\u001b[0;31mAttributeError\u001b[0m: 'Tensor' object has no attribute 'wait'"
     ]
    }
   ],
   "source": [
    "#Constructing CrypTensors with ptype attribute\n",
    "\n",
    "#arithmetic secret-shared tensors\n",
    "x_enc = crypten.cryptensor([1.0, 2.0, 3.0], ptype=crypten.mpc.astra)\n",
    "print(\"x_enc internal type:\", x_enc.ptype)\n",
    "\n",
    "#binary secret-shared tensors\n",
    "# y = torch.tensor([1, 2, 1], dtype=torch.int32)\n",
    "# y_enc = crypten.cryptensor(y, ptype=crypten.mpc.binary)\n",
    "# print(\"y_enc internal type:\", y_enc.ptype)"
   ]
  },
  {
   "attachments": {},
   "cell_type": "markdown",
   "metadata": {},
   "source": [
    "### Arithmetic secret-sharing\n",
    "Let's look more closely at the `crypten.mpc.arithmetic` <i>ptype</i>. Most of the mathematical operations implemented by `CrypTensors` are implemented using arithmetic secret sharing. As such, `crypten.mpc.arithmetic` is the default <i>ptype</i> for newly generated `CrypTensors`. \n",
    "\n",
    "Let's begin by creating a new `CrypTensor` using `ptype=crypten.mpc.arithmetic` to enforce that the encryption is done via arithmetic secret sharing. We can print values of each share to confirm that values are being encrypted properly. \n",
    "\n",
    "To do so, we will need to create multiple parties to hold each share. We do this here using the `@mpc.run_multiprocess` function decorator, which we developed to execute crypten code from a single script (as we have in a Jupyter notebook). CrypTen follows the standard MPI programming model: it runs a separate process for each party, but each process runs an identical (complete) program. Each process has a `rank` variable to identify itself.\n",
    "\n",
    "Note that the sum of the two `_tensor` attributes below is equal to a scaled representation of the input. (Because MPC requires values to be integers, we scale input floats to a fixed-point encoding before encryption.)"
   ]
  },
  {
   "cell_type": "code",
   "execution_count": 1,
   "metadata": {},
   "outputs": [
    {
     "name": "stdout",
     "output_type": "stream",
     "text": [
      "torch.Size([1, 1])\n"
     ]
    },
    {
     "name": "stderr",
     "output_type": "stream",
     "text": [
      "Process Process-1:\n",
      "Process Process-2:\n",
      "Process Process-3:\n",
      "Traceback (most recent call last):\n",
      "Traceback (most recent call last):\n",
      "Traceback (most recent call last):\n",
      "  File \"/home/musa/anaconda3/lib/python3.9/multiprocessing/process.py\", line 315, in _bootstrap\n",
      "    self.run()\n",
      "  File \"/home/musa/anaconda3/lib/python3.9/multiprocessing/process.py\", line 315, in _bootstrap\n",
      "    self.run()\n",
      "  File \"/home/musa/anaconda3/lib/python3.9/multiprocessing/process.py\", line 315, in _bootstrap\n",
      "    self.run()\n",
      "  File \"/home/musa/anaconda3/lib/python3.9/multiprocessing/process.py\", line 108, in run\n",
      "    self._target(*self._args, **self._kwargs)\n",
      "  File \"/home/musa/anaconda3/lib/python3.9/multiprocessing/process.py\", line 108, in run\n",
      "    self._target(*self._args, **self._kwargs)\n",
      "  File \"/home/musa/anaconda3/lib/python3.9/multiprocessing/process.py\", line 108, in run\n",
      "    self._target(*self._args, **self._kwargs)\n",
      "  File \"/home/musa/Documents/distributed/crypten/crypten/mpc/context.py\", line 30, in _launch\n",
      "    return_value = func(*func_args, **func_kwargs)\n",
      "  File \"/home/musa/Documents/distributed/crypten/crypten/mpc/context.py\", line 30, in _launch\n",
      "    return_value = func(*func_args, **func_kwargs)\n",
      "  File \"/home/musa/Documents/distributed/crypten/crypten/mpc/context.py\", line 30, in _launch\n",
      "    return_value = func(*func_args, **func_kwargs)\n",
      "  File \"/tmp/ipykernel_10314/2388145797.py\", line 27, in examine_arithmetic_shares\n",
      "    crypten.print(f\"\\nRank {rank}:\\n {z_enc.get_plain_text_astra()}\\n\", in_order=True)\n",
      "  File \"/tmp/ipykernel_10314/2388145797.py\", line 27, in examine_arithmetic_shares\n",
      "    crypten.print(f\"\\nRank {rank}:\\n {z_enc.get_plain_text_astra()}\\n\", in_order=True)\n",
      "  File \"/tmp/ipykernel_10314/2388145797.py\", line 27, in examine_arithmetic_shares\n",
      "    crypten.print(f\"\\nRank {rank}:\\n {z_enc.get_plain_text_astra()}\\n\", in_order=True)\n",
      "  File \"/home/musa/Documents/distributed/crypten/crypten/debug/__init__.py\", line 25, in validate_attribute\n",
      "    function = getattr_function(self, name)\n",
      "  File \"/home/musa/Documents/distributed/crypten/crypten/debug/__init__.py\", line 25, in validate_attribute\n",
      "    function = getattr_function(self, name)\n",
      "  File \"/home/musa/Documents/distributed/crypten/crypten/debug/__init__.py\", line 25, in validate_attribute\n",
      "    function = getattr_function(self, name)\n",
      "  File \"/home/musa/Documents/distributed/crypten/crypten/cryptensor.py\", line 428, in __getattribute__\n",
      "    return object.__getattribute__(self, name)\n",
      "  File \"/home/musa/Documents/distributed/crypten/crypten/cryptensor.py\", line 428, in __getattribute__\n",
      "    return object.__getattribute__(self, name)\n",
      "  File \"/home/musa/Documents/distributed/crypten/crypten/cryptensor.py\", line 428, in __getattribute__\n",
      "    return object.__getattribute__(self, name)\n",
      "AttributeError: 'MPCTensor' object has no attribute 'get_plain_text_astra'\n",
      "AttributeError: 'MPCTensor' object has no attribute 'get_plain_text_astra'\n",
      "AttributeError: 'MPCTensor' object has no attribute 'get_plain_text_astra'\n",
      "ERROR:root:One of the parties failed. Check past logs\n"
     ]
    }
   ],
   "source": [
    "\n",
    "import sys\n",
    "sys.path.insert(0, '/home/musa/Documents/distributed/crypten')\n",
    "import os\n",
    "os.environ[\"CUDA_VISIBLE_DEVICES\"] = \"\"\n",
    "#import the libraries\n",
    "import crypten\n",
    "import torch\n",
    "import crypten.mpc as mpc\n",
    "import crypten.communicator as comm \n",
    "#initialize crypten\n",
    "crypten.init()\n",
    "#Disables OpenMP threads -- needed by @mpc.run_multiprocess which uses fork\n",
    "torch.set_num_threads(1)\n",
    "@mpc.run_multiprocess(world_size=3)\n",
    "def examine_arithmetic_shares():\n",
    "    x_enc = crypten.cryptensor([1, 6, 3], ptype=crypten.mpc.astra)\n",
    "    y_enc = crypten.cryptensor([2, 2, 3], ptype=crypten.mpc.astra)\n",
    "    w_enc = crypten.cryptensor([5, 4, 6], ptype=crypten.mpc.astra)\n",
    "    z_enc = x_enc - y_enc + w_enc\n",
    "    # rank = comm.get().get_rank()\n",
    "    # crypten.print(f\"\\nRank {rank}:\\n {x_enc}\\n\", in_order=True)\n",
    "    # rank = comm.get().get_rank()\n",
    "    # crypten.print(f\"\\nRank {rank}:\\n {y_enc}\\n\", in_order=True)\n",
    "    # rank = comm.get().get_rank()\n",
    "    # crypten.print(f\"\\nRank {rank}:\\n {z_enc}\\n\", in_order=True)\n",
    "    rank = comm.get().get_rank()\n",
    "    crypten.print(f\"\\nRank {rank}:\\n {z_enc.get_plain_text()}\\n\", in_order=True)\n",
    "        \n",
    "x = examine_arithmetic_shares()"
   ]
  },
  {
   "attachments": {},
   "cell_type": "markdown",
   "metadata": {},
   "source": [
    "### Binary secret-sharing\n",
    "The second type of secret-sharing implemented in CrypTen is binary or XOR secret-sharing. This type of secret-sharing allows greater efficiency in evaluating logical expressions. \n",
    "\n",
    "Let's look more closely at the `crypten.mpc.binary` <i>ptype</i>. Most of the logical operations implemented by `CrypTensors` are implemented using arithmetic secret sharing. We typically use this type of secret-sharing when we want to evaluate binary operators (i.e. `^ & | >> <<`, etc.) or logical operations (like comparitors).\n",
    "\n",
    "Let's begin by creating a new `CrypTensor` using `ptype=crypten.mpc.binary` to enforce that the encryption is done via binary secret sharing. We can print values of each share to confirm that values are being encrypted properly, as we did for arithmetic secret-shares.\n",
    "\n",
    "(Note that an xor of the two `_tensor` attributes below is equal to an unscaled version of input.)"
   ]
  },
  {
   "cell_type": "code",
   "execution_count": 5,
   "metadata": {},
   "outputs": [
    {
     "name": "stdout",
     "output_type": "stream",
     "text": [
      "\n",
      "Rank 0:\n",
      " MPCTensor(\n",
      "\t_tensor=tensor([8781243275888849711, -740884646725168933])\n",
      "\tplain_text=HIDDEN\n",
      "\tptype=ptype.binary\n",
      ")\n",
      "\n",
      "\n",
      "Rank 1:\n",
      " MPCTensor(\n",
      "\t_tensor=tensor([-2211850641281229302, -2864486539375809349])\n",
      "\tplain_text=HIDDEN\n",
      "\tptype=ptype.binary\n",
      ")\n",
      "\n",
      "\n",
      "Rank 2:\n",
      " MPCTensor(\n",
      "\t_tensor=tensor([-7453224615271060185,  3281037244965207139])\n",
      "\tplain_text=HIDDEN\n",
      "\tptype=ptype.binary\n",
      ")\n",
      "\n"
     ]
    }
   ],
   "source": [
    "@mpc.run_multiprocess(world_size=3)\n",
    "def examine_binary_shares():\n",
    "    x_enc = crypten.cryptensor([2, 3], ptype=crypten.mpc.binary)\n",
    "    \n",
    "    rank = comm.get().get_rank()\n",
    "    crypten.print(f\"\\nRank {rank}:\\n {x_enc}\\n\", in_order=True)\n",
    "        \n",
    "x = examine_binary_shares()"
   ]
  },
  {
   "attachments": {},
   "cell_type": "markdown",
   "metadata": {},
   "source": [
    "### Using Both Secret-sharing Protocols\n",
    "Quite often a mathematical function may need to use both additive and XOR secret sharing for efficient evaluation.  Functions that require conversions between sharing types include comparators (`>, >=, <, <=, ==, !=`) as well as functions derived from them (`abs, sign, relu`, etc.). For a full list of supported functions, please see the CrypTen documentation.\n",
    "\n",
    "CrypTen provides functionality that allows for the conversion of between <i>ptypes</i>. Conversion between <i>ptypes</i> can be done using the `.to()` function with a `crypten.ptype` input, or by calling the `.arithmetic()` and `.binary()` conversion functions."
   ]
  },
  {
   "cell_type": "code",
   "execution_count": 5,
   "metadata": {},
   "outputs": [
    {
     "name": "stdout",
     "output_type": "stream",
     "text": [
      "to(crypten.binary):\n",
      "  ptype: ptype.binary\n",
      "  plaintext: tensor([1., 2., 3.])\n",
      "\n",
      "to(crypten.arithmetic):\n",
      "  ptype: ptype.arithmetic\n",
      "  plaintext: tensor([1., 2., 3.])\n",
      "\n"
     ]
    }
   ],
   "source": [
    "from crypten.mpc import MPCTensor\n",
    "\n",
    "@mpc.run_multiprocess(world_size=2)\n",
    "def examine_conversion():\n",
    "    x = torch.tensor([1, 2, 3])\n",
    "    rank = comm.get().get_rank()\n",
    "\n",
    "    # create an MPCTensor with arithmetic secret sharing\n",
    "    x_enc_arithmetic = MPCTensor(x, ptype=crypten.mpc.arithmetic)\n",
    "    \n",
    "    # To binary\n",
    "    x_enc_binary = x_enc_arithmetic.to(crypten.mpc.binary)\n",
    "    x_from_binary = x_enc_binary.get_plain_text()\n",
    "    \n",
    "    # print only once\n",
    "    crypten.print(\"to(crypten.binary):\")\n",
    "    crypten.print(f\"  ptype: {x_enc_binary.ptype}\\n  plaintext: {x_from_binary}\\n\")\n",
    "\n",
    "        \n",
    "    # To arithmetic\n",
    "    x_enc_arithmetic = x_enc_arithmetic.to(crypten.mpc.arithmetic)\n",
    "    x_from_arithmetic = x_enc_arithmetic.get_plain_text()\n",
    "    \n",
    "    # print only once\n",
    "    crypten.print(\"to(crypten.arithmetic):\")\n",
    "    crypten.print(f\"  ptype: {x_enc_arithmetic.ptype}\\n  plaintext: {x_from_arithmetic}\\n\")\n",
    "\n",
    "        \n",
    "z = examine_conversion()"
   ]
  },
  {
   "attachments": {},
   "cell_type": "markdown",
   "metadata": {},
   "source": [
    "## Data Sources\n",
    "CrypTen follows the standard MPI programming model: it runs a separate process for each party, but each process runs an identical (complete) program. Each process has a `rank` variable to identify itself.\n",
    "\n",
    "If the process with rank `i` is the source of data `x`, then `x` gets encrypted with `i` as its source value (denoted as `src`). However, MPI protocols require that both processes to provide a tensor with the same size as their input. CrypTen ignores all data provided from non-source processes when encrypting.\n",
    "\n",
    "In the next example, we'll show how to use the `rank` and `src` values to encrypt tensors. Here, we will have each of 3 parties generate a value `x` which is equal to its own `rank` value. Within the loop, 3 encrypted tensors are created, each with a different source. When these tensors are decrypted, we can verify that the tensors are generated using the tensor provided by the source process.\n",
    "\n",
    "(Note that `crypten.cryptensor` uses rank 0 as the default source if none is provided.)"
   ]
  },
  {
   "cell_type": "code",
   "execution_count": 6,
   "metadata": {},
   "outputs": [
    {
     "name": "stdout",
     "output_type": "stream",
     "text": [
      "Rank 0: 0\n",
      "Rank 1: 1\n",
      "Rank 2: 2\n",
      "Source 0: 0.0\n",
      "Source 1: 1.0\n",
      "Source 2: 2.0\n"
     ]
    }
   ],
   "source": [
    "@mpc.run_multiprocess(world_size=3)\n",
    "def examine_sources():\n",
    "    # Create a different tensor on each rank\n",
    "    rank = comm.get().get_rank()\n",
    "    x = torch.tensor(rank)\n",
    "    crypten.print(f\"Rank {rank}: {x}\", in_order=True)\n",
    "    \n",
    "    # \n",
    "    world_size = comm.get().get_world_size()\n",
    "    for i in range(world_size):\n",
    "        x_enc = crypten.cryptensor(x, src=i)\n",
    "        z = x_enc.get_plain_text()\n",
    "        \n",
    "        # Only print from one process to avoid duplicates\n",
    "        crypten.print(f\"Source {i}: {z}\")\n",
    "        \n",
    "x = examine_sources()"
   ]
  }
 ],
 "metadata": {
  "kernelspec": {
   "display_name": "Python 3",
   "language": "python",
   "name": "python3"
  },
  "language_info": {
   "codemirror_mode": {
    "name": "ipython",
    "version": 3
   },
   "file_extension": ".py",
   "mimetype": "text/x-python",
   "name": "python",
   "nbconvert_exporter": "python",
   "pygments_lexer": "ipython3",
   "version": "3.9.13"
  }
 },
 "nbformat": 4,
 "nbformat_minor": 2
}
